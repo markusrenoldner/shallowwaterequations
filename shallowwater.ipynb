{
 "cells": [
  {
   "cell_type": "markdown",
   "metadata": {},
   "source": [
    "# first example"
   ]
  },
  {
   "cell_type": "markdown",
   "metadata": {},
   "source": [
    "Shallow water model for non-horizontal bottom $B(x)$ in conservative form (cons. variables: $h$, $uh=:m$)\n",
    "\\begin{align*}\n",
    "h_t + m_x &= 0 \\quad \\text{conservation of volume/mass ($\\rho$ is constant)}\\\\\n",
    "m_t + (\\frac{m^2}{h} + \\frac{1}{2}gh^2)_x &= -ghB_x \\quad \\text{force/momentum balance in x}\\\\\n",
    "\\text{on } (x,t) \\in [0,L] \\times [0,\\infty) &  \\\\\n",
    "\\end{align*}"
   ]
  },
  {
   "cell_type": "code",
   "execution_count": 1,
   "metadata": {},
   "outputs": [],
   "source": [
    "import numpy as np\n",
    "import matplotlib.pyplot as plt\n",
    "import pandas as pd"
   ]
  },
  {
   "cell_type": "markdown",
   "metadata": {},
   "source": [
    "parameters"
   ]
  },
  {
   "cell_type": "code",
   "execution_count": 84,
   "metadata": {},
   "outputs": [
    {
     "name": "stdout",
     "output_type": "stream",
     "text": [
      "0.0010416666666666667 0.03125\n"
     ]
    }
   ],
   "source": [
    "# parameters\n",
    "L = 10\n",
    "N = 320\n",
    "dx = L/N\n",
    "# T = 1\n",
    "M = 1500\n",
    "\n",
    "H = 1\n",
    "g = 9.81\n",
    "epsilon = 2*H\n",
    "w = 0.1*L\n",
    "\n",
    "a = 4.16667\n",
    "a = 30\n",
    "dt = dx/a\n",
    "print(dt, dx)"
   ]
  },
  {
   "cell_type": "code",
   "execution_count": 85,
   "metadata": {},
   "outputs": [],
   "source": [
    "# in this notation u actually denotes the solution vector Q\n",
    "def f(u):\n",
    "    u_0 = u[1]\n",
    "    u_1 = u[1] * u[1] / u[0] + 0.5 * g * u[0]*u[0]\n",
    "    return np.array([u_0, u_1])\n",
    "\n",
    "def RoeFlux(u,v):\n",
    "    delta = u-v\n",
    "    u_hat = (np.sqrt(u[0]) *u[1] / u[0] + np.sqrt(v[0]) * v[1] / v[0])\n",
    "    u_hat = u_hat / (np.sqrt(u[0]) + np.sqrt(v[0]))\n",
    "    # print(v[0])\n",
    "    c_hat = np.sqrt(g * 0.5 * (v[0] + u[0]))\n",
    "    alpha_1 = ((u_hat + c_hat)*delta[0] - delta[1] )/ (2*c_hat)\n",
    "    alpha_2 = (-(u_hat - c_hat)*delta[0] + delta[1] )/ (2*c_hat)\n",
    "    r_1 = np.array([1, u_hat - c_hat])\n",
    "    r_2 = np.array([1, u_hat + c_hat])\n",
    "    W_1 = alpha_1 * r_1\n",
    "    W_2 = alpha_2 * r_2\n",
    "    lambda_1 = u_hat - c_hat\n",
    "    lambda_2 = u_hat + c_hat\n",
    "    # lambda_2 = - lambda_1\n",
    "    F = 0.5 * (f(v) + f(u)) - 0.5 * (abs(lambda_1) * W_1 + abs(lambda_2) * W_2)\n",
    "    return F"
   ]
  },
  {
   "cell_type": "code",
   "execution_count": 86,
   "metadata": {},
   "outputs": [
    {
     "data": {
      "image/png": "[encoded data removed]",
      "text/plain": [
       "<Figure size 432x288 with 1 Axes>"
      ]
     },
     "metadata": {
      "needs_background": "light"
     },
     "output_type": "display_data"
    }
   ],
   "source": [
    "Q = np.zeros((N+2,M,2)) # N+2 space steps, M timesteps, 2 variables\n",
    "\n",
    "# initial conditions\n",
    "for k in np.arange(1,N+1):\n",
    "    x = (2*k -1)/2 * dx\n",
    "    Q[k,0,0] = H + epsilon * np.exp(-(x-L/2)**2 / w**2)\n",
    "    # https://scicomp.stackexchange.com/questions/35062/shallow-water-equations-swe-well-posed-initial-data-for-single-travelling-pul\n",
    "    Q[k,0,1] = -2*Q[k,0,0] * (np.sqrt(g)-np.sqrt(g*Q[k,0,0]))\n",
    "\n",
    "for t in np.arange(1,M): # time loop \n",
    "    # ghost cells:\n",
    "    Q[0,t-1,0] = Q[1,t-1,0]\n",
    "    Q[0,t-1,1] = -Q[1,t-1,1] # for reflective BC with - sign\n",
    "    Q[N+1,t-1,0] = Q[N,t-1,0]\n",
    "    Q[N+1,t-1,1] = -Q[N,t-1,1] # for reflective BC with - sign\n",
    "\n",
    "    for j in np.arange(1,N+1): # spatial loop\n",
    "        # Q[j,t,:] = Q[j,t-1,:] - dt/dx*(RoeFlux(j,t-1) - RoeFlux(j-1,t))\n",
    "        Q[j,t,:] = Q[j,t-1,:] - dt/dx*(RoeFlux(Q[j+1,t-1,:], Q[j,t-1,:]) - \n",
    "                                       RoeFlux(Q[j,t-1,:], Q[j-1,t-1,:]))\n",
    "\n",
    "# plot\n",
    "for k in np.arange(0,M):\n",
    "    if k%(M/4)==0:\n",
    "        plt.plot(Q[:,k,0], label = 't='+str(k*dt)[0:4])\n",
    "plt.grid()\n",
    "plt.xlabel(\"$x$\")\n",
    "plt.ylabel(\"$h$\")\n",
    "# plt.ylim(0.95,1.3)\n",
    "plt.title('$\\Delta x=$'+str(dx)[:5]+', $\\Delta t=$'+str(dt)[:5])#+\", $C_0$=\"+str(C))\n",
    "plt.legend()\n",
    "plt.tight_layout()\n",
    "# plt.savefig('plots/flat-highpulse-'+str(dt)[:5]+'-'+str(dx)[:5] + '.pdf')\n",
    "plt.show()"
   ]
  },
  {
   "cell_type": "markdown",
   "metadata": {},
   "source": [
    "# second example\n",
    "\n"
   ]
  },
  {
   "cell_type": "code",
   "execution_count": 45,
   "metadata": {},
   "outputs": [
    {
     "name": "stdout",
     "output_type": "stream",
     "text": [
      "0.013303142850293768 0.125\n"
     ]
    }
   ],
   "source": [
    "# parameters\n",
    "L = 10\n",
    "N = 80\n",
    "dx = L/N\n",
    "# T = 15\n",
    "M = 500\n",
    "# a = N/250\n",
    "# dt = T/M\n",
    "dt = dx / (np.sqrt(g*H) * 3)\n",
    "print(dt, dx)\n",
    "\n",
    "H = 1\n",
    "g = 9.81\n",
    "epsilon = H/5\n",
    "w = 0.1*L\n",
    "\n",
    "# bump of bathymetry\n",
    "B0 = H/10\n",
    "r  = L/6\n",
    "\n",
    "# IC/BC - factor of speed of cound\n",
    "uK = 1.5"
   ]
  },
  {
   "cell_type": "code",
   "execution_count": 46,
   "metadata": {},
   "outputs": [],
   "source": [
    "# in this notation u actually denotes the solution vector Q = (h,m)^T\n",
    "def f(u):\n",
    "    u_0 = u[1]\n",
    "    u_1 = u[1] * u[1] / u[0] + 0.5 * g * u[0]*u[0]\n",
    "    return np.array([u_0, u_1])\n",
    "\n",
    "def RoeFlux(u,v):\n",
    "    delta = u-v\n",
    "    u_hat = (np.sqrt(u[0]) *u[1] / u[0] + np.sqrt(v[0]) * v[1] / v[0])\n",
    "    u_hat = u_hat / (np.sqrt(u[0]) + np.sqrt(v[0]))\n",
    "    c_hat = np.sqrt(g * 0.5 * (v[0] + u[0]))\n",
    "    alpha_1 = ((u_hat + c_hat)*delta[0] - delta[1] )/ (2*c_hat)\n",
    "    alpha_2 = (-(u_hat - c_hat)*delta[0] + delta[1] )/ (2*c_hat)\n",
    "    r_1 = np.array([1, u_hat - c_hat])\n",
    "    r_2 = np.array([1, u_hat + c_hat])\n",
    "    W_1 = alpha_1 * r_1\n",
    "    W_2 = alpha_2 * r_2\n",
    "    lambda_1 = u_hat - c_hat\n",
    "    lambda_2 = u_hat + c_hat\n",
    "    F = 0.5 * (f(v) + f(u)) - 0.5 * (abs(lambda_1) * W_1 + abs(lambda_2) * W_2)\n",
    "    return F\n",
    "\n",
    "def S(h,x):\n",
    "    pi = np.pi\n",
    "    if abs(x-L/2) < r:\n",
    "        dBdx = B0*pi*np.sin(pi*(L-2*x)*0.25/r)*np.cos(pi*(L-2*x)*0.25/r)/r\n",
    "        return np.array([0,-g*h*dBdx])\n",
    "    else: return np.array([0,0])"
   ]
  },
  {
   "cell_type": "code",
   "execution_count": 47,
   "metadata": {},
   "outputs": [
    {
     "data": {
      "image/png": "[encoded data removed]",
      "text/plain": [
       "<Figure size 432x288 with 1 Axes>"
      ]
     },
     "metadata": {
      "needs_background": "light"
     },
     "output_type": "display_data"
    }
   ],
   "source": [
    "# N+2 space steps, M timesteps, 2 variables\n",
    "Q = np.zeros((N+2,M,2))\n",
    "# bottom\n",
    "B = np.zeros(N+2)\n",
    "\n",
    "# spatial loop for the bottom\n",
    "for j in np.arange(1,N+1): \n",
    "    x = j*dx\n",
    "    if abs(x - L/2) < r: B[j] = B0*np.cos(np.pi*(x-L/2)*0.5/r)**2\n",
    "    else : B[j] = 0\n",
    "\n",
    "# initial conditions\n",
    "for k in np.arange(1,N+1):\n",
    "    # take cell center value:\n",
    "    Q[k,0,0] = H\n",
    "    Q[k,0,1] = H*uK*np.sqrt(g*H)\n",
    "\n",
    "# time loop \n",
    "for t in np.arange(1,M):\n",
    "    # ghost cells:\n",
    "    Q[0,t-1,0] = H#Q[1,t-1,0]\n",
    "    Q[0,t-1,1] = H*uK*np.sqrt(g*H)\n",
    "    Q[N+1,t-1,0] = Q[N,t-1,0]\n",
    "    Q[N+1,t-1,1] = Q[N,t-1,1]\n",
    "\n",
    "    # spatial loop\n",
    "    for j in np.arange(1,N+1):\n",
    "        x = (2*j-1)/2 *dx\n",
    "        # adjusted scheme for non-horizontal bottom\n",
    "        Q[j,t,:] = Q[j,t-1,:] - dt/dx*(RoeFlux(Q[j+1,t-1,:], Q[j,t-1,:]) - \n",
    "                                       RoeFlux(Q[j,t-1,:], Q[j-1,t-1,:])) + dt * S(Q[j,t-1,0], x)\n",
    "\n",
    "# plot\n",
    "plt.plot(Q[:,M-2,0]+B, label = \"h+B\")\n",
    "plt.plot(Q[:,M-2,1]/Q[:,M-2,0], label = \"u\")\n",
    "plt.plot(B, label=\"B\")\n",
    "plt.grid()\n",
    "plt.xlabel(\"$x$\")\n",
    "plt.ylabel(\"$h, u, B$\")\n",
    "plt.ylim(0,5)\n",
    "plt.title('t='+str(M*dt)[:5]+', $\\Delta x=$'+str(dx)[:5]+', $\\Delta t=$'+str(dt)[:5]+', $u(0,t)=$'+str(uK)+'$u_c$')\n",
    "plt.legend()\n",
    "plt.tight_layout()\n",
    "# plt.savefig('plots/bump-'+str(dx)[:5]+'-' +str(dt)[:5]+\"-\"+str(uK) + 'uc.pdf')\n",
    "plt.show()"
   ]
  },
  {
   "cell_type": "markdown",
   "metadata": {},
   "source": [
    "# third example: entropy fix"
   ]
  },
  {
   "cell_type": "code",
   "execution_count": 176,
   "metadata": {},
   "outputs": [],
   "source": [
    "# parameters\n",
    "L = 10\n",
    "N = 160\n",
    "dx = L/N\n",
    "H = 1\n",
    "g = 9.81\n",
    "w = 0.1*L\n",
    "epsilon = H/5\n",
    "alpha = 1\n",
    "\n",
    "delta = 1/0.6* dx\n",
    "entropy_fix = True\n",
    "\n",
    "M = 1500\n",
    "#dt = 0.25*dx**2/(2*alpha)\n",
    "dt = dx / (np.sqrt(g*H) * 3)\n",
    "\n",
    "# IC/BC - factor of speed of cound\n",
    "uK = 0.5"
   ]
  },
  {
   "cell_type": "code",
   "execution_count": 177,
   "metadata": {},
   "outputs": [],
   "source": [
    "def f(u):\n",
    "    u_0 = u[1]\n",
    "    u_1 = u[1] * u[1] / u[0] + 0.5 * g * u[0]*u[0]\n",
    "    return np.array([u_0, u_1])\n",
    "\n",
    "def RoeFlux(u,v):\n",
    "    delta = u-v\n",
    "    u_hat = (np.sqrt(u[0]) *u[1] / u[0] + np.sqrt(v[0]) * v[1] / v[0])\n",
    "    u_hat = u_hat / (np.sqrt(u[0]) + np.sqrt(v[0]))\n",
    "    c_hat = np.sqrt(g * 0.5 * (v[0] + u[0]))\n",
    "    alpha_1 = ((u_hat + c_hat)*delta[0] - delta[1] )/ (2*c_hat)\n",
    "    alpha_2 = (-(u_hat - c_hat)*delta[0] + delta[1] )/ (2*c_hat)\n",
    "    r_1 = np.array([1, u_hat - c_hat])\n",
    "    r_2 = np.array([1, u_hat + c_hat])\n",
    "    W_1 = alpha_1 * r_1\n",
    "    W_2 = alpha_2 * r_2\n",
    "    lambda_1 = u_hat - c_hat\n",
    "    lambda_2 = u_hat + c_hat\n",
    "    F = 0.5 * (f(v) + f(u)) - 0.5 * (Phi(lambda_1) * W_1 + Phi(lambda_2) * W_2)\n",
    "    return F\n",
    "\n",
    "def B(x):\n",
    "    r = L/6\n",
    "    B_0 = H/10\n",
    "    B_hat = np.zeros(len(x))\n",
    "    for j in range(0,len(x)):\n",
    "        if abs(x[j] - L /2) < r:\n",
    "            B_hat[j] = B_0 * ( np.cos(np.pi * (x[j]-L/2) / (2*r)) )**2\n",
    "        else :\n",
    "            B_hat[j] = 0\n",
    "    return B_hat\n",
    "\n",
    "def S(j,h):\n",
    "    B_0 = H/10\n",
    "    r = L/6\n",
    "    x = (2*j - 1)/2 * dx\n",
    "    \n",
    "    if abs(x - L /2) < r:\n",
    "        return np.array([0,- g*h* B_0 * np.pi/r * (-np.sin(np.pi * (x-L/2) / (2*r))) * np.cos(np.pi * (x-L/2) / (2*r))])\n",
    "    else :\n",
    "        return np.array([0,0])\n",
    "\n",
    "def Phi(x):\n",
    "    if entropy_fix == True:\n",
    "        if abs(x) >= delta:\n",
    "            return abs(x)\n",
    "        else:\n",
    "            return (x**2 + delta**2)/(2*delta)\n",
    "    else:\n",
    "        return abs(x)"
   ]
  },
  {
   "cell_type": "code",
   "execution_count": 178,
   "metadata": {},
   "outputs": [
    {
     "data": {
      "image/png": "[encoded data removed]",
      "text/plain": [
       "<Figure size 432x288 with 1 Axes>"
      ]
     },
     "metadata": {
      "needs_background": "light"
     },
     "output_type": "display_data"
    }
   ],
   "source": [
    "Q = np.zeros((N+2,M,2)) # N+2 space steps, M timesteps, 2 variables\n",
    "B_hat = B(np.linspace(0,L,N+2))\n",
    "\n",
    "# initial conditions\n",
    "for k in np.arange(1,N+1):\n",
    "    Q[k,0,0] = H\n",
    "    Q[k,0,1] = H*uK * np.sqrt(g*H) #since u<np.sqrt(g*h(x)) and m = u*h\n",
    "    #use Q[k,0,1] = H* 1.5 * np.sqrt(g*H) for super-critical and factor 0.5 for sub-critical\n",
    "    #factors 0.65 for type 3 and 0.95 for type 4\n",
    "\n",
    "for t in np.arange(1,M): # time loop \n",
    "    # ghost cells:\n",
    "    Q[0,t-1,0] = H\n",
    "    Q[0,t-1,1] = H*uK*np.sqrt(g*H) #use Q[k,0,1] = H* 1.5 * np.sqrt(g*H) for super-critical and factor 0.5 for sub-critical\n",
    "    Q[N+1,t-1,0] = Q[N,t-1,0]\n",
    "    Q[N+1,t-1,1] = Q[N,t-1,1]\n",
    "\n",
    "    for j in np.arange(1,N+1): # spatial loop\n",
    "        \n",
    "        Q[j,t,:] = Q[j,t-1,:] - dt/dx*(RoeFlux(Q[j+1,t-1,:], Q[j,t-1,:]) - \n",
    "                                                         RoeFlux(Q[j,t-1,:], Q[j-1,t-1,:])) + dt * S(j,Q[j,t-1,0])\n",
    "\n",
    "# plot\n",
    "plt.plot(np.linspace(0,L,157),Q[1:158,M-1,1]/Q[1:158,M-1,0], label = \"u\")      \n",
    "plt.plot(np.linspace(0,L,157),B_hat[1:158], label = \"B\")\n",
    "plt.plot(np.linspace(0,L,157),B_hat[1:158] + Q[1:158,M-1,0], label = \"h + B\")\n",
    "plt.grid()\n",
    "plt.xlabel(\"$x$\")\n",
    "plt.ylabel(\"$h, u, B$\")\n",
    "plt.title('t='+str(M*dt)[:5]+', $\\Delta x=$'+str(dx)[:5]+', $\\Delta t=$'+str(dt)[:5]+', $u(0,t)=$'+str(uK)+'$u_c$')\n",
    "plt.legend()\n",
    "plt.tight_layout()\n",
    "# plt.savefig('plots/entropy-'+str(dx)[:5]+'-' +str(dt)[:5]+\"-\"+str(uK) + 'uc.pdf')\n",
    "plt.show()"
   ]
  },
  {
   "cell_type": "markdown",
   "metadata": {},
   "source": [
    "# fourth example: higher order scheme"
   ]
  },
  {
   "cell_type": "code",
   "execution_count": 1,
   "metadata": {},
   "outputs": [],
   "source": [
    "import numpy as np\n",
    "import matplotlib.pyplot as plt"
   ]
  },
  {
   "cell_type": "code",
   "execution_count": 35,
   "metadata": {},
   "outputs": [
    {
     "name": "stdout",
     "output_type": "stream",
     "text": [
      "0.01875 0.125\n"
     ]
    }
   ],
   "source": [
    "# parameters\n",
    "L = 10\n",
    "N = 80\n",
    "dx = L/N\n",
    "T = 3\n",
    "M = 500\n",
    "a = N/250\n",
    "dt = T/(M*a)\n",
    "print(dt, dx)\n",
    "\n",
    "H = 1\n",
    "g = 9.81\n",
    "epsilon = H/5\n",
    "# epsilon = 2*H\n",
    "w = 0.1*L\n",
    "\n",
    "# entropy fix\n",
    "delta = 1/0.6* dx\n",
    "entropy_fix = True\n",
    "\n",
    "# bottom\n",
    "B0 = H/10\n",
    "r  = L/6"
   ]
  },
  {
   "cell_type": "code",
   "execution_count": 36,
   "metadata": {},
   "outputs": [],
   "source": [
    "# in this notation u actually denotes the solution vector Q\n",
    "def f(u):\n",
    "    u_0 = u[1]\n",
    "    u_1 = u[1] * u[1] / u[0] + 0.5 * g * u[0]*u[0]\n",
    "    return np.array([u_0, u_1])\n",
    "\n",
    "def Phi(x):\n",
    "    if entropy_fix == True:\n",
    "        if abs(x) >= delta:\n",
    "            return abs(x)\n",
    "        else:\n",
    "            return (x**2 + delta**2)/(2*delta)\n",
    "    else:\n",
    "        return abs(x)\n",
    "\n",
    "def RoeFlux(u,v):\n",
    "    delta = u-v\n",
    "    if u[0] < 0: print(\"asdf\")\n",
    "    u_hat = (np.sqrt(u[0]) *u[1] / u[0] + np.sqrt(v[0]) * v[1] / v[0])\n",
    "    u_hat = u_hat / (np.sqrt(u[0]) + np.sqrt(v[0]))\n",
    "    c_hat = np.sqrt(g * 0.5 * (v[0] + u[0]))\n",
    "    alpha_1 = ((u_hat + c_hat)*delta[0] - delta[1] )/ (2*c_hat)\n",
    "    alpha_2 = (-(u_hat - c_hat)*delta[0] + delta[1] )/ (2*c_hat)\n",
    "    r_1 = np.array([1, u_hat - c_hat])\n",
    "    r_2 = np.array([1, u_hat + c_hat])\n",
    "    W_1 = alpha_1 * r_1\n",
    "    W_2 = alpha_2 * r_2\n",
    "    lambda_1 = u_hat - c_hat\n",
    "    lambda_2 = u_hat + c_hat\n",
    "    F = 0.5 * (f(v) + f(u)) - 0.5 * (Phi(lambda_1) * W_1 + Phi(lambda_2) * W_2)\n",
    "    # F = 0.5 * (f(v) + f(u)) - 0.5 * (abs(lambda_1) * W_1 + abs(lambda_2) * W_2)\n",
    "    return F\n",
    "\n",
    "def fluxlimiter(theta):\n",
    "    if theta < 1: return max(0,theta)\n",
    "    else:         return 1\n",
    "\n",
    "alphas_1 = np.zeros(N+2)\n",
    "alphas_2 = np.zeros(N+2)\n",
    "\n",
    "# corrected high order flux\n",
    "def RoeFlux_corr(u,v,j):\n",
    "    # index1: water height h\n",
    "    # index2: water momentum m\n",
    "    \n",
    "    # Wtilde see in Leveque eq. 6.55\n",
    "    delta = u-v\n",
    "    u_hat = (np.sqrt(u[0]) *u[1] / u[0] + np.sqrt(v[0]) * v[1] / v[0])\n",
    "    u_hat = u_hat / (np.sqrt(u[0]) + np.sqrt(v[0]))\n",
    "    c_hat = np.sqrt(g * 0.5 * (v[0] + u[0]))\n",
    "    alphas_1[j] = ((u_hat + c_hat)*delta[0] - delta[1] )/ (2*c_hat)\n",
    "    alphas_2[j] = (-(u_hat - c_hat)*delta[0] + delta[1] )/ (2*c_hat)\n",
    "    lambda_1 = u_hat - c_hat\n",
    "    lambda_2 = u_hat + c_hat\n",
    "    \n",
    "    if lambda_1 > 0: theta_1 = alphas_1[j-1]\n",
    "    else           : theta_1 = alphas_1[j+1]\n",
    "    if lambda_2 > 0: theta_2 = alphas_2[j-1]\n",
    "    else           : theta_2 = alphas_2[j+1]\n",
    "    alpha_tilde_1 = alphas_1[j]*fluxlimiter(theta_1)\n",
    "    alpha_tilde_2 = alphas_2[j]*fluxlimiter(theta_2)\n",
    "    r_1 = np.array([1, u_hat - c_hat])\n",
    "    r_2 = np.array([1, u_hat + c_hat])\n",
    "    Wtilde1 = alpha_tilde_1*r_1\n",
    "    Wtilde2 = alpha_tilde_2*r_2\n",
    "\n",
    "    # Ftilde see in Leveque eq. 15.63\n",
    "    # lambda_l1 = ...\n",
    "    # lambda_l2 = ...\n",
    "    # lambda_r1 = ...\n",
    "    # lambda_r2 = ...\n",
    "    # s1 = 0.5 * abs(lambda_l1 + lambda_r1) # ?\n",
    "    # s2 = 0.5 * abs(lambda_l2 + lambda_r2) # ?\n",
    "    s1 = abs(lambda_1)\n",
    "    s2 = abs(lambda_2)\n",
    "    Ftilde1 = 0.5 * s1*(1-dt/dx*s1)*Wtilde1\n",
    "    Ftilde2 = 0.5 * s2*(1-dt/dx*s2)*Wtilde2\n",
    "    return Ftilde1 + Ftilde2\n",
    "\n",
    "def S(h,x):\n",
    "    pi = np.pi\n",
    "    if abs(x-L/2) < r:\n",
    "        dBdx = B0*pi*np.sin(pi*(L-2*x)*0.25/r)*np.cos(pi*(L-2*x)*0.25/r)/r\n",
    "        return np.array([0,-g*h*dBdx])\n",
    "    else: return np.array([0,0])"
   ]
  },
  {
   "cell_type": "code",
   "execution_count": 37,
   "metadata": {},
   "outputs": [],
   "source": [
    "# N=6\n",
    "# a = np.zeros(N+2)\n",
    "# a[0] = 0\n",
    "# a[N+1] = 0\n",
    "# a[1] = 1\n",
    "# a[N] = 1\n",
    "# for i in range(2,N):\n",
    "#     a[i] = 2\n",
    "\n",
    "# print(a)"
   ]
  },
  {
   "cell_type": "code",
   "execution_count": 38,
   "metadata": {},
   "outputs": [
    {
     "name": "stdout",
     "output_type": "stream",
     "text": [
      "asdf\n",
      "asdf\n",
      "asdf\n",
      "asdf\n"
     ]
    },
    {
     "name": "stderr",
     "output_type": "stream",
     "text": [
      "<ipython-input-36-143614e2dbd9>:19: RuntimeWarning: invalid value encountered in sqrt\n",
      "  u_hat = (np.sqrt(u[0]) *u[1] / u[0] + np.sqrt(v[0]) * v[1] / v[0])\n",
      "<ipython-input-36-143614e2dbd9>:20: RuntimeWarning: invalid value encountered in sqrt\n",
      "  u_hat = u_hat / (np.sqrt(u[0]) + np.sqrt(v[0]))\n",
      "<ipython-input-36-143614e2dbd9>:48: RuntimeWarning: invalid value encountered in sqrt\n",
      "  u_hat = (np.sqrt(u[0]) *u[1] / u[0] + np.sqrt(v[0]) * v[1] / v[0])\n",
      "<ipython-input-36-143614e2dbd9>:49: RuntimeWarning: invalid value encountered in sqrt\n",
      "  u_hat = u_hat / (np.sqrt(u[0]) + np.sqrt(v[0]))\n",
      "<ipython-input-36-143614e2dbd9>:19: RuntimeWarning: overflow encountered in double_scalars\n",
      "  u_hat = (np.sqrt(u[0]) *u[1] / u[0] + np.sqrt(v[0]) * v[1] / v[0])\n",
      "<ipython-input-36-143614e2dbd9>:4: RuntimeWarning: overflow encountered in double_scalars\n",
      "  u_1 = u[1] * u[1] / u[0] + 0.5 * g * u[0]*u[0]\n",
      "<ipython-input-36-143614e2dbd9>:48: RuntimeWarning: overflow encountered in double_scalars\n",
      "  u_hat = (np.sqrt(u[0]) *u[1] / u[0] + np.sqrt(v[0]) * v[1] / v[0])\n",
      "<ipython-input-36-143614e2dbd9>:30: RuntimeWarning: invalid value encountered in add\n",
      "  F = 0.5 * (f(v) + f(u)) - 0.5 * (Phi(lambda_1) * W_1 + Phi(lambda_2) * W_2)\n",
      "<ipython-input-36-143614e2dbd9>:78: RuntimeWarning: invalid value encountered in add\n",
      "  return Ftilde1 + Ftilde2\n"
     ]
    },
    {
     "data": {
      "image/png": "[encoded data removed]",
      "text/plain": [
       "<Figure size 432x288 with 1 Axes>"
      ]
     },
     "metadata": {
      "needs_background": "light"
     },
     "output_type": "display_data"
    },
    {
     "data": {
      "image/png": "[encoded data removed]",
      "text/plain": [
       "<Figure size 432x288 with 1 Axes>"
      ]
     },
     "metadata": {
      "needs_background": "light"
     },
     "output_type": "display_data"
    },
    {
     "data": {
      "image/png": "[encoded data removed]",
      "text/plain": [
       "<Figure size 432x288 with 1 Axes>"
      ]
     },
     "metadata": {
      "needs_background": "light"
     },
     "output_type": "display_data"
    },
    {
     "data": {
      "image/png": "[encoded data removed]",
      "text/plain": [
       "<Figure size 432x288 with 1 Axes>"
      ]
     },
     "metadata": {
      "needs_background": "light"
     },
     "output_type": "display_data"
    }
   ],
   "source": [
    "# N+2 space steps, M timesteps, 2 variables\n",
    "Q = np.zeros((N+2,M,2))\n",
    "# bottom\n",
    "B = np.zeros(N+2)\n",
    "\n",
    "# spatial loop for the bottom\n",
    "for j in np.arange(1,N+1): \n",
    "    x = j*dx\n",
    "    if abs(x - L/2) < r: B[j] = B0*np.cos(np.pi*(x-L/2)*0.5/r)**2\n",
    "    else : B[j] = 0\n",
    "\n",
    "# initial conditions\n",
    "for k in np.arange(1,N+1):\n",
    "    # take cell center value:\n",
    "    Q[k,0,0] = H\n",
    "    Q[k,0,1] = H*1.5*np.sqrt(g*H)\n",
    "\n",
    "# time loop\n",
    "for t in np.arange(1,M):\n",
    "    # ghost cells:\n",
    "    Q[0,t-1,0] = H#Q[1,t-1,0]\n",
    "    Q[0,t-1,1] = H*1.5*np.sqrt(g*H)\n",
    "    Q[N+1,t-1,0] = Q[N,t-1,0]\n",
    "    Q[N+1,t-1,1] = Q[N,t-1,1]\n",
    "\n",
    "    # first cell - no flux correction\n",
    "    j = 1\n",
    "    x = (2*j-1)/2 *dx\n",
    "    Q[j,t,:] = Q[j,t-1,:] - dt/dx*(RoeFlux(Q[j+1,t-1,:], Q[j,t-1,:]) - \n",
    "                                   RoeFlux(Q[j,t-1,:], Q[j-1,t-1,:]) + dt * S(Q[j,t-1,0], x))\n",
    "    # center cells - with flux correction\n",
    "    for j in range(2,N):\n",
    "        x = (2*j-1)/2 *dx\n",
    "        Q[j,t,:] = Q[j,t-1,:] - dt/dx*(RoeFlux(Q[j+1,t-1,:], Q[j,t-1,:]) - \n",
    "                                       RoeFlux(Q[j,t-1,:], Q[j-1,t-1,:]) +\n",
    "                                       RoeFlux_corr(Q[j+1,t-1,:], Q[j,t-1,:], j) - \n",
    "                                       RoeFlux_corr(Q[j,t-1,:], Q[j-1,t-1,:], j)) + dt * S(Q[j,t-1,0], x)\n",
    "    # last cell - no flux correction\n",
    "    j = N\n",
    "    x = (2*j-1)/2 *dx\n",
    "    Q[j,t,:] = Q[j,t-1,:] - dt/dx*(RoeFlux(Q[j+1,t-1,:], Q[j,t-1,:]) - \n",
    "                                   RoeFlux(Q[j,t-1,:], Q[j-1,t-1,:]) + dt * S(Q[j,t-1,0], x))\n",
    "\n",
    "# print(Q[:,-1,0])\n",
    "\n",
    "# plot\n",
    "n = 1\n",
    "for k in np.arange(0,M):\n",
    "    if k%(M/4)==0:\n",
    "        plt.plot(Q[:,k,0], label = \"$h$\")\n",
    "        # plt.plot(Q[:,k,0)\n",
    "        plt.grid()\n",
    "        plt.xlabel(\"$x$ position in dm\")\n",
    "        plt.ylabel(\"water height in m\")\n",
    "        plt.ylim(0,1.5)\n",
    "        plt.title('t='+str(k*dt)[0:4]+', $\\Delta x=$'+str(dx)+', $\\Delta t=$'+str(dt))#+\", $C_0$=\"+str(C))\n",
    "        plt.legend()\n",
    "        plt.tight_layout()\n",
    "        # plt.savefig('plots/damping'+str(dx)+'-' + str(n) + '.jpg')\n",
    "        plt.show()\n",
    "        n+=1"
   ]
  },
  {
   "cell_type": "code",
   "execution_count": null,
   "metadata": {},
   "outputs": [],
   "source": []
  },
  {
   "cell_type": "code",
   "execution_count": null,
   "metadata": {},
   "outputs": [],
   "source": []
  }
 ],
 "metadata": {
  "interpreter": {
   "hash": "916dbcbb3f70747c44a77c7bcd40155683ae19c65e1c03b4aa3499c5328201f1"
  },
  "kernelspec": {
   "display_name": "Python 3.8.5 64-bit",
   "language": "python",
   "name": "python3"
  },
  "language_info": {
   "codemirror_mode": {
    "name": "ipython",
    "version": 3
   },
   "file_extension": ".py",
   "mimetype": "text/x-python",
   "name": "python",
   "nbconvert_exporter": "python",
   "pygments_lexer": "ipython3",
   "version": "3.8.5"
  },
  "orig_nbformat": 4
 },
 "nbformat": 4,
 "nbformat_minor": 2
}
